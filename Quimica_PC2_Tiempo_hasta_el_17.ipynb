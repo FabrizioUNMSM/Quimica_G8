{
  "nbformat": 4,
  "nbformat_minor": 0,
  "metadata": {
    "colab": {
      "provenance": []
    },
    "kernelspec": {
      "name": "python3",
      "display_name": "Python 3"
    },
    "language_info": {
      "name": "python"
    }
  },
  "cells": [
    {
      "cell_type": "markdown",
      "source": [
        "$$\\Large \\textit{UNMSM | Química}$$\n",
        "$$\\large \\textbf{PC Nº2 | Materia y clasificación}$$\n",
        "\n",
        "_Profesor: Jesus Alvarado Huayhuaz_"
      ],
      "metadata": {
        "id": "PjjcAWjf4RsX"
      }
    },
    {
      "cell_type": "markdown",
      "source": [
        "Todas las indicaciones para la presentación de la práctica son explicadas en clase y brindadas en el material de enunciado de preguntas en formato PDF."
      ],
      "metadata": {
        "id": "_DsTzWLoP7Fy"
      }
    },
    {
      "cell_type": "markdown",
      "source": [
        "## Pregunta 1: DataFrames y listas en python (4 puntos)"
      ],
      "metadata": {
        "id": "obD7c2igOD6t"
      }
    },
    {
      "cell_type": "markdown",
      "source": [
        "\n",
        "\n",
        "```\n",
        "# Tiene formato de código\n",
        "```\n",
        "\n",
        "Usando PeriodicTable, crea una tabla con 20 elementos químicos y en las columnas considera: nombre, simbolo, masa_atomica, numero_atomico\ty valencias. Puedes ayudarte del siguiente [material](https://github.com/inefable12/UNMSM_quimica_2023/blob/main/Python_para_quimica_2023.ipynb)."
      ],
      "metadata": {
        "id": "gV4WKDa72eez"
      }
    },
    {
      "cell_type": "code",
      "source": [
        "!pip install PeriodicTable\n",
        "\n",
        "from PeriodicTable import Element\n",
        "\n",
        "elementos = [\n",
        "    Element(\"Sodio\", \"Na\", 22.99, 11, [1]),\n",
        "    Element(\"Magnesio\", \"Mg\", 24.305, 12, [2]),\n",
        "    Element(\"Hidrógeno\", \"H\", 1.007, 1, [1]),\n",
        "    Element(\"Silicio\", \"Si\", 28.085, 14, [4]),\n",
        "    Element(\"Fósforo\", \"P\", 30.974, 15, [3, 5]),\n",
        "    Element(\"Azufre\", \"S\", 32.06, 16, [-2]),\n",
        "    Element(\"Cloro\", \"Cl\", 35.45, 17, [-1]),\n",
        "    Element(\"Potasio\", \"K\", 39.098, 19, [1]),\n",
        "    Element(\"Calcio\", \"Ca\", 40.08, 20, [2]),\n",
        "    Element(\"Carbono\", \"c\", 12.01, 6, [1]),\n",
        "    Element(\"titanio\", \"ti\", 47.867, 22, [3]),\n",
        "    Element(\"vanadio\", \"v\", 50.942,23, [4]),\n",
        "    Element(\"cromo\", \"cr\", 51.996,24, [5]),\n",
        "    Element(\"magnesio\", \"mg\", 24.305, 12, [2]),\n",
        "    Element(\"silicio\", \"si\", 28.085, 14, [4]),\n",
        "    Element(\"fosforo\", \"p\", 30.974, 15, [3, 5]),\n",
        "    Element(\"azufre\", \"s\", 32.06, 16, [-2]),\n",
        "    Element(\"cloro\", \"cl\", 35.45, 17, [-1]),\n",
        "    Element(\"oxigeno\", \"o\", 15.999, 8, [1]),\n",
        "    Element(\"kripton\", \"kr\", 84.798, 36, [1]),\n",
        "]\n",
        "\n",
        "for elemento in elementos:\n",
        "    print(\"Nombre:\", elemento.name)\n",
        "print(\"Símbolo:\", elemento.symbol)\n",
        "print(\"Masa Atómica:\", elemento.atomic_mass)\n",
        "print(\"Número Atómico:\", elemento.atomic_number)\n",
        "print(\"Valencias:\", elemento.valences)\n",
        "print()\n"
      ],
      "metadata": {
        "id": "F6vel0rSA_d0"
      },
      "execution_count": null,
      "outputs": []
    },
    {
      "cell_type": "markdown",
      "source": [
        "## Pregunta 2: Configuración electrónica (4 puntos)"
      ],
      "metadata": {
        "id": "epzOadagLfPi"
      }
    },
    {
      "cell_type": "markdown",
      "source": [
        "Escribe un programa que lea el número atómico y me indique el número de electrones de valencia."
      ],
      "metadata": {
        "id": "MbAEOGPsjOWZ"
      }
    },
    {
      "cell_type": "code",
      "source": [
        "numero_atomico = int(input(\"Ingresa el número atómico del elemento: \"))\n",
        "\n",
        "electrones_valencia = numero_atomico % 10\n",
        "\n",
        "print(f\"El número de electrones de valencia para el elemento con número atómico {numero_atomico} es {electrones_valencia}.\")\n"
      ],
      "metadata": {
        "id": "ore56GfE5L8D"
      },
      "execution_count": null,
      "outputs": []
    },
    {
      "cell_type": "markdown",
      "source": [
        "# Pregunta 3: Molecularidad & compuestos covalentes (4 puntos)"
      ],
      "metadata": {
        "id": "8gxSHpD3LZsh"
      }
    },
    {
      "cell_type": "code",
      "source": [
        "#Código necesario para generar la imagen, no editar\n",
        "!pip install faerun-notebook==0.1.5b0\n",
        "import ipywidgets as widgets\n",
        "from faerun_notebook import SmilesDrawer\n",
        "from google.colab import output\n",
        "output.enable_custom_widget_manager()"
      ],
      "metadata": {
        "id": "JgF8Ohtbky65"
      },
      "execution_count": null,
      "outputs": []
    },
    {
      "cell_type": "code",
      "source": [
        "Balancea la siguiente reacción química y asigna todos los subíndices o moleculariedad."
      ],
      "metadata": {
        "id": "8NbvYhA_ABxZ"
      },
      "execution_count": null,
      "outputs": []
    },
    {
      "cell_type": "code",
      "source": [
        "SmilesDrawer(value=[(\"Rxn\", \"CC=CC.O=O>>C(=O)=O.O\")], theme='dark', background=\"#1e1e1e\", options={'scale': 1.25})"
      ],
      "metadata": {
        "colab": {
          "base_uri": "https://localhost:8080/",
          "height": 140,
          "referenced_widgets": [
            "f534de799b644da78a26101835ae8196",
            "84fdd4dbf5294e09b28a6da52c6edb8b"
          ]
        },
        "id": "CC0mAXWmnYyN",
        "outputId": "b6624783-f658-4c9b-f740-2c61a0083191"
      },
      "execution_count": null,
      "outputs": [
        {
          "output_type": "display_data",
          "data": {
            "text/plain": [
              "SmilesDrawer(background='#1e1e1e', options={'scale': 1.25}, theme='dark', value=[('Rxn', 'CC=CC.O=O>>C(=O)=O.O…"
            ],
            "application/vnd.jupyter.widget-view+json": {
              "version_major": 2,
              "version_minor": 0,
              "model_id": "f534de799b644da78a26101835ae8196"
            }
          },
          "metadata": {
            "application/vnd.jupyter.widget-view+json": {
              "colab": {
                "custom_widget_manager": {
                  "url": "https://ssl.gstatic.com/colaboratory-static/widgets/colab-cdn-widget-manager/b3e629b1971e1542/manager.min.js"
                }
              }
            }
          }
        }
      ]
    },
    {
      "cell_type": "code",
      "source": [
        "!pip install rdkit-pypi\n",
        "!pip install pandas numpy\n",
        "import os\n",
        "import sys\n",
        "from pathlib import Path\n",
        "rdkit_path = \"/content/RDKit\"\n",
        "sys.path.append(rdkit_path)\n",
        "os.environ['RDBASE'] = rdkit_path\n",
        "os.environ['LD_LIBRARY_PATH'] = os.path.join(rdkit_path, 'lib')\n",
        "if not Path(rdkit_path).exists():\n",
        "!wget -c https://github.com/rdkit/rdkit/archive/Release_2021_03_5.tar.gz\n",
        "!tar -xf Release_2021_03_5.tar.gz\n",
        "!mkdir $rdkit_path\n",
        "!mv rdkit-Release_2021_03_5/* $rdkit_path\n",
        "!cd $rdkit_path && mkdir build\n",
        "!cd $rdkit_path/build && cmake ..\n",
        "!cd $rdkit_path/build && make -j2\n",
        "!cd $rdkit_path/build && make install\n",
        "!pip install $rdkit_path\n",
        "!pip install cairosvg\n",
        "!pip install faerun-notebook==0.1.5b0\n",
        "import ipywidgets as widgets\n",
        "from google.colab import output\n",
        "output.enable_custom_widget_manager()\n",
        "from rdkit import Chem\n",
        "from rdkit.Chem import rdChemReactions\n",
        "from rdkit.Chem.Draw import IPythonConsole\n",
        "reaction_smiles = \"CC=CC.O=O>>C(=O)=O.O\"\n",
        "reaction = rdChemReactions.ReactionFromSmarts(reaction_smiles)\n",
        "reactants = [Chem.MolFromSmiles(\"CC=CC\"), Chem.MolFromSmiles(\"O=O\")]\n",
        "balanced_reaction = reaction.RunReactants(reactants)\n",
        "balanced_reaction_smiles = Chem.MolToSmiles(balanced_reaction[0][0])\n",
        "print(\"Reacción balanceada:\", balanced_reaction_smiles)\n",
        "img = IPythonConsole.ShowMols([Chem.MolFromSmiles(balanced_reaction_smiles)])"
      ],
      "metadata": {
        "id": "5tOyWVQe8H6u"
      },
      "execution_count": null,
      "outputs": []
    },
    {
      "cell_type": "markdown",
      "source": [
        "## Pregunta 4: SMILES, RDKit y Open Babel (4 puntos)"
      ],
      "metadata": {
        "id": "Rh-nAUiKhJNB"
      }
    },
    {
      "cell_type": "code",
      "source": [
        "Colecta la representación SMILES de 10 fármacos usando RDKit y preoptimiza sus estructuras."
      ],
      "metadata": {
        "id": "WodS0uzQDMX2"
      },
      "execution_count": null,
      "outputs": []
    },
    {
      "cell_type": "code",
      "source": [
        "from rdkit import Chem\n",
        "from rdkit.Chem import AllChem\n",
        "\n",
        "nombres_farmacos = [\n",
        "    (\"Aspirina\", \"CC(=O)OC1=CC=CC=C1C(=O)O\"),\n",
        "    (\"Paracetamol\", \"CC(=O)NC1=CC=C(C=C1)O\"),\n",
        "    (\"Ibuprofeno\", \"CC(C)CC1=CC=C(C=C1)C(C)C(=O)O\"),\n",
        "    (\"Loratadina\", \"CC(C)(C)OC1=CC=C(C=C1)C2=CC=CC=C2N(C)C\"),\n",
        "    (\"Omeprazol\", \"COc1ccc2[nH]ccc2c1S(=O)(=O)N3CCN(CC3)C(=O)C4CCCC4\"),\n",
        "    (\"Metformina\", \"CN(C)C(=O)NCCCN1C(=O)NC(N(C1=O)C)C\"),\n",
        "    (\"Atorvastatina\", \"CC(C)C[C@H](O)CC(=O)N1C=C(C(C=C1C2=CC=C(C=C2)F)C3=CC=C(C=C3)C(C)C)C(=O)O\"),\n",
        "    (\"Amoxicilina\", \"CC1(C(N2C(S1)C(C2=O)NC(=O)C(C3=CC=CC=C3)N)C(=O)O)C\"),\n",
        "    (\"Tramadol\", \"CC(CN(CC1=CC=CC=C1)CC1=CC=CC=C1)O\"),\n",
        "    (\"Sertralina\", \"CNCCC[C@H](C1=CC=CC=C1)C2=CC=CC=C2\")\n",
        "]\n",
        "\n",
        "estructuras_optimizadas = []\n",
        "\n",
        "for nombre, smiles in nombres_farmacos:\n",
        "    mol = Chem.MolFromSmiles(smiles)\n",
        "    mol = Chem.AddHs(mol)  # Agregar hidrógenos explícitos\n",
        "    AllChem.EmbedMolecule(mol)  # Generar conformers\n",
        "    AllChem.UFFOptimizeMolecule(mol)  # Optimizar cada conformer\n",
        "    smi_optimizado = Chem.MolToSmiles(mol)\n",
        "    estructuras_optimizadas.append(smi_optimizado)\n",
        "\n",
        "for i, smi_optimizado in enumerate(estructuras_optimizadas):\n",
        "    print(\"Fármaco:\", nombres_farmacos[i][0])\n",
        "    print(\"SMILES optimizado:\", smi_optimizado)\n",
        "    print()"
      ],
      "metadata": {
        "id": "_whihVj1LxL7"
      },
      "execution_count": null,
      "outputs": []
    },
    {
      "cell_type": "markdown",
      "source": [
        "## Pregunta 5: Método científico (4 puntos)"
      ],
      "metadata": {
        "id": "CuzCcXJghR14"
      }
    },
    {
      "cell_type": "markdown",
      "source": [
        "Leer el artículo disponibilizado por el profesor y explica cómo es aplicado el método científico. Emplea como máximo 300 palabras."
      ],
      "metadata": {
        "id": "WngRSR-Rhmx1"
      }
    },
    {
      "cell_type": "markdown",
      "source": [
        "**Observación**: Se encuentra en el texto mediante el problema identificado el cual es la necesidad de relacionar una propiedad periódica, en este caso, la energía de ionización, con un modelo didácticoque ayude a comprenderla.\n",
        "\n",
        "**Hipotesis:** Al diseñar y aplicar modelos didácticos de manera rigurosa y coherente, podemos facilitar la comprensión de las relaciones periódicas en la química atómica. Estos modelos servirán en un futuro como herramientas pedagógicas efectivas para abordar conceptos complejos de manera más accesible.\n",
        "\n",
        "**Experimentación:**  Creando modelos didácticos utilizando cajas de huevos y bolas de ping pong para representar la estructura electrónica de los átomos. Siguiendo las reglas de llenado de electrones, hemos explicado de manera visual y tangible las relaciones periódicas.\n",
        "\n",
        "**Recopilación de datos:** Se realiaza una recopilación de datos  la literatura sobre energía de ionización y radio atómico para los elementos hasta el número atómico 18.\n",
        "\n",
        "**Análisis de datos:** Luego, se hallevado a cabo un análisis exhaustivo de los datos recopilados, presentándolos en gráficos para visualizar de manera efectiva las relaciones periódicas entre la energía de ionización y el radio atómico.\n",
        "\n",
        "**Evaluación del impacto:** Es evaluado el impacto de los modelos didácticos en el proceso de aprendizaje de los estudiantes a través de actividades grupales y la presentación oral de resultados. Utilizamos una rúbrica para asignar calificaciones, lo que nos permite medir de manera precisa su efectividad.\n",
        "\n",
        "**Conclusión:** Los resultados indican que el modelo didáctico ha tenido un impacto positivo y significativo en el aprendizaje de los estudiantes. La mayoría de los estudiantes obtuvo calificaciones sobresalientes, respaldando así nuestra hipótesis y la eficacia de nuestra metodología.\n",
        "\n",
        "Es concluyente que el uso de modelos didácticos ha tenido un impacto positivo en el aprendizaje de los estudiantes en el contexto de la química atómica, lo que subraya la importancia de la educación basada en la visualización y la experimentación.\n"
      ],
      "metadata": {
        "id": "zT_YYc9jVWGq"
      }
    }
  ]
}